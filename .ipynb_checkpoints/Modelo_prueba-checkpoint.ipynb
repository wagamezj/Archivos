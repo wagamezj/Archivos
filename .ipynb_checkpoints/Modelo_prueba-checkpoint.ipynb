{
 "cells": [
  {
   "cell_type": "markdown",
   "metadata": {},
   "source": [
    "1. Preproceso de los datos - Quita missing values - borro renglones o no los borro- \n",
    "2. Ingenieria de la caracteristicas - Variables que voy a utilizar\n",
    "3. Trabajar el tema del balanceo de los datos\n",
    "3. Modelacion Capitulo 7\n",
    "4. Evaluacion y prediccion Capitulo (Curva ROC)\n",
    "5. Prediccion\n",
    "\n"
   ]
  },
  {
   "cell_type": "markdown",
   "metadata": {},
   "source": [
    "Con las bases de datos que se le suministrarán se pide construir un modelo predictivo que retorne la probabilidad de que una cotización de una placa finalice el flujo con la compra exitosa del seguro."
   ]
  },
  {
   "cell_type": "code",
   "execution_count": null,
   "metadata": {},
   "outputs": [],
   "source": []
  },
  {
   "cell_type": "code",
   "execution_count": 42,
   "metadata": {},
   "outputs": [],
   "source": [
    "import pandas as pd\n",
    "import seaborn as sns\n",
    "import matplotlib.pyplot as plt\n",
    "import numpy as np\n",
    "from sklearn.preprocessing import OneHotEncoder\n",
    "import warnings\n",
    "from sklearn.metrics import brier_score_loss\n",
    "warnings.filterwarnings(\"ignore\")"
   ]
  },
  {
   "cell_type": "markdown",
   "metadata": {},
   "source": [
    "### 1. Analisis y preparacion de los datos"
   ]
  },
  {
   "cell_type": "code",
   "execution_count": 2,
   "metadata": {},
   "outputs": [],
   "source": [
    "data = pd.read_excel('transacciones.xlsx')  \n",
    "demograficos = pd.read_excel('Datos demográficos.xlsx')   \n",
    "\n",
    "df = data"
   ]
  },
  {
   "cell_type": "code",
   "execution_count": 3,
   "metadata": {},
   "outputs": [],
   "source": [
    "df = data\n",
    "df2 = demograficos"
   ]
  },
  {
   "cell_type": "code",
   "execution_count": 4,
   "metadata": {},
   "outputs": [
    {
     "data": {
      "text/html": [
       "<div>\n",
       "<style scoped>\n",
       "    .dataframe tbody tr th:only-of-type {\n",
       "        vertical-align: middle;\n",
       "    }\n",
       "\n",
       "    .dataframe tbody tr th {\n",
       "        vertical-align: top;\n",
       "    }\n",
       "\n",
       "    .dataframe thead th {\n",
       "        text-align: right;\n",
       "    }\n",
       "</style>\n",
       "<table border=\"1\" class=\"dataframe\">\n",
       "  <thead>\n",
       "    <tr style=\"text-align: right;\">\n",
       "      <th></th>\n",
       "      <th>Fecha</th>\n",
       "      <th>browserFamily</th>\n",
       "      <th>browserType</th>\n",
       "      <th>city</th>\n",
       "      <th>country</th>\n",
       "      <th>duration</th>\n",
       "      <th>endTime</th>\n",
       "      <th>osFamily</th>\n",
       "      <th>osVersion</th>\n",
       "      <th>region</th>\n",
       "      <th>startTime</th>\n",
       "      <th>PasoMax</th>\n",
       "      <th>Canales</th>\n",
       "      <th>TipoVeh</th>\n",
       "      <th>NumCanales</th>\n",
       "      <th>Placa_Id</th>\n",
       "    </tr>\n",
       "  </thead>\n",
       "  <tbody>\n",
       "    <tr>\n",
       "      <th>0</th>\n",
       "      <td>2018-05-31</td>\n",
       "      <td>Chrome</td>\n",
       "      <td>Desktop Browser</td>\n",
       "      <td>BogotÃ¡</td>\n",
       "      <td>Colombia</td>\n",
       "      <td>78</td>\n",
       "      <td>2018-05-31 18:16:00</td>\n",
       "      <td>Windows</td>\n",
       "      <td>Windows 8.1</td>\n",
       "      <td>Bogota D.C.</td>\n",
       "      <td>2018-05-31 18:15:00</td>\n",
       "      <td>Datos</td>\n",
       "      <td>alkosto</td>\n",
       "      <td>Moto</td>\n",
       "      <td>1</td>\n",
       "      <td>2145</td>\n",
       "    </tr>\n",
       "    <tr>\n",
       "      <th>1</th>\n",
       "      <td>2018-05-31</td>\n",
       "      <td>Chrome Mobile</td>\n",
       "      <td>Mobile Browser</td>\n",
       "      <td>BogotÃ¡</td>\n",
       "      <td>Colombia</td>\n",
       "      <td>130</td>\n",
       "      <td>2018-05-31 22:21:00</td>\n",
       "      <td>Android</td>\n",
       "      <td>Android 9.0 Pie</td>\n",
       "      <td>Bogota D.C.</td>\n",
       "      <td>2018-05-31 22:18:00</td>\n",
       "      <td>Datos</td>\n",
       "      <td>exito</td>\n",
       "      <td>Moto</td>\n",
       "      <td>1</td>\n",
       "      <td>2145</td>\n",
       "    </tr>\n",
       "    <tr>\n",
       "      <th>2</th>\n",
       "      <td>2018-06-03</td>\n",
       "      <td>Edge</td>\n",
       "      <td>Desktop Browser</td>\n",
       "      <td>BogotÃ¡</td>\n",
       "      <td>Colombia</td>\n",
       "      <td>92</td>\n",
       "      <td>2018-06-03 16:46:00</td>\n",
       "      <td>Windows</td>\n",
       "      <td>Windows 10</td>\n",
       "      <td>Bogota D.C.</td>\n",
       "      <td>2018-06-03 16:44:00</td>\n",
       "      <td>Datos</td>\n",
       "      <td>bancolombia</td>\n",
       "      <td>Moto</td>\n",
       "      <td>1</td>\n",
       "      <td>2146</td>\n",
       "    </tr>\n",
       "    <tr>\n",
       "      <th>3</th>\n",
       "      <td>2018-06-03</td>\n",
       "      <td>Chrome</td>\n",
       "      <td>Desktop Browser</td>\n",
       "      <td>Barranquilla</td>\n",
       "      <td>Colombia</td>\n",
       "      <td>49</td>\n",
       "      <td>2018-06-03 08:43:00</td>\n",
       "      <td>Windows</td>\n",
       "      <td>Windows 7</td>\n",
       "      <td>AtlÃ¡ntico</td>\n",
       "      <td>2018-06-03 08:42:00</td>\n",
       "      <td>Datos</td>\n",
       "      <td>sura</td>\n",
       "      <td>Moto</td>\n",
       "      <td>1</td>\n",
       "      <td>2147</td>\n",
       "    </tr>\n",
       "    <tr>\n",
       "      <th>4</th>\n",
       "      <td>2018-06-04</td>\n",
       "      <td>Chrome</td>\n",
       "      <td>Desktop Browser</td>\n",
       "      <td>Acevedo</td>\n",
       "      <td>Colombia</td>\n",
       "      <td>28</td>\n",
       "      <td>2018-06-04 16:56:00</td>\n",
       "      <td>Windows</td>\n",
       "      <td>Windows 10</td>\n",
       "      <td>Departamento del Huila</td>\n",
       "      <td>2018-06-04 16:56:00</td>\n",
       "      <td>Datos</td>\n",
       "      <td>exito</td>\n",
       "      <td>Moto</td>\n",
       "      <td>1</td>\n",
       "      <td>2148</td>\n",
       "    </tr>\n",
       "  </tbody>\n",
       "</table>\n",
       "</div>"
      ],
      "text/plain": [
       "       Fecha  browserFamily      browserType          city   country  \\\n",
       "0 2018-05-31         Chrome  Desktop Browser       BogotÃ¡  Colombia   \n",
       "1 2018-05-31  Chrome Mobile   Mobile Browser       BogotÃ¡  Colombia   \n",
       "2 2018-06-03           Edge  Desktop Browser       BogotÃ¡  Colombia   \n",
       "3 2018-06-03         Chrome  Desktop Browser  Barranquilla  Colombia   \n",
       "4 2018-06-04         Chrome  Desktop Browser       Acevedo  Colombia   \n",
       "\n",
       "   duration             endTime osFamily        osVersion  \\\n",
       "0        78 2018-05-31 18:16:00  Windows      Windows 8.1   \n",
       "1       130 2018-05-31 22:21:00  Android  Android 9.0 Pie   \n",
       "2        92 2018-06-03 16:46:00  Windows       Windows 10   \n",
       "3        49 2018-06-03 08:43:00  Windows        Windows 7   \n",
       "4        28 2018-06-04 16:56:00  Windows       Windows 10   \n",
       "\n",
       "                   region           startTime PasoMax      Canales TipoVeh  \\\n",
       "0             Bogota D.C. 2018-05-31 18:15:00   Datos      alkosto    Moto   \n",
       "1             Bogota D.C. 2018-05-31 22:18:00   Datos        exito    Moto   \n",
       "2             Bogota D.C. 2018-06-03 16:44:00   Datos  bancolombia    Moto   \n",
       "3              AtlÃ¡ntico 2018-06-03 08:42:00   Datos         sura    Moto   \n",
       "4  Departamento del Huila 2018-06-04 16:56:00   Datos        exito    Moto   \n",
       "\n",
       "   NumCanales  Placa_Id  \n",
       "0           1      2145  \n",
       "1           1      2145  \n",
       "2           1      2146  \n",
       "3           1      2147  \n",
       "4           1      2148  "
      ]
     },
     "execution_count": 4,
     "metadata": {},
     "output_type": "execute_result"
    }
   ],
   "source": [
    "df.head()"
   ]
  },
  {
   "cell_type": "code",
   "execution_count": 5,
   "metadata": {},
   "outputs": [
    {
     "data": {
      "text/plain": [
       "Index(['Fecha', 'browserFamily', 'browserType', 'city', 'country', 'duration',\n",
       "       'endTime', 'osFamily', 'osVersion', 'region', 'startTime', 'PasoMax',\n",
       "       'Canales', 'TipoVeh', 'NumCanales', 'Placa_Id'],\n",
       "      dtype='object')"
      ]
     },
     "execution_count": 5,
     "metadata": {},
     "output_type": "execute_result"
    }
   ],
   "source": [
    "df.columns"
   ]
  },
  {
   "cell_type": "code",
   "execution_count": 6,
   "metadata": {},
   "outputs": [],
   "source": [
    "df = df[['Fecha', 'browserFamily', 'browserType', 'city', 'country', 'duration',\n",
    "       'endTime', 'osFamily', 'osVersion', 'region', 'startTime',\n",
    "       'Canales', 'TipoVeh', 'NumCanales', 'Placa_Id','PasoMax']]"
   ]
  },
  {
   "cell_type": "code",
   "execution_count": 7,
   "metadata": {},
   "outputs": [
    {
     "name": "stdout",
     "output_type": "stream",
     "text": [
      "Datos               44779\n",
      "Pagos Pendientes     3228\n",
      "Pagos Exitosos       2852\n",
      "Pagos Rechazados      439\n",
      "Cotizacion             44\n",
      "Name: PasoMax, dtype: int64\n"
     ]
    },
    {
     "data": {
      "image/png": "[encoded data removed]",
      "text/plain": [
       "<Figure size 432x288 with 1 Axes>"
      ]
     },
     "metadata": {
      "needs_background": "light"
     },
     "output_type": "display_data"
    }
   ],
   "source": [
    "sns.countplot(y='PasoMax', data=df)\n",
    "print(df['PasoMax'].value_counts())"
   ]
  },
  {
   "cell_type": "code",
   "execution_count": 8,
   "metadata": {},
   "outputs": [
    {
     "name": "stdout",
     "output_type": "stream",
     "text": [
      "Carro    35165\n",
      "Moto     15914\n",
      "Name: TipoVeh, dtype: int64\n"
     ]
    },
    {
     "data": {
      "image/png": "[encoded data removed]",
      "text/plain": [
       "<Figure size 432x288 with 1 Axes>"
      ]
     },
     "metadata": {
      "needs_background": "light"
     },
     "output_type": "display_data"
    }
   ],
   "source": [
    "sns.countplot(y='TipoVeh', data=df)\n",
    "print(df['TipoVeh'].value_counts())"
   ]
  },
  {
   "cell_type": "code",
   "execution_count": 9,
   "metadata": {},
   "outputs": [
    {
     "name": "stdout",
     "output_type": "stream",
     "text": [
      "Filas de la tabla  51358\n",
      "Valores nulos  823\n",
      "1.60247673196\n"
     ]
    }
   ],
   "source": [
    "# Valores nullos a eliminar\n",
    "print(\"Filas de la tabla \", len(df))\n",
    "print(\"Valores nulos \", df.isnull().values.sum())\n",
    "print(df.isnull().values.sum()/len(df)*100)"
   ]
  },
  {
   "cell_type": "code",
   "execution_count": 10,
   "metadata": {},
   "outputs": [
    {
     "data": {
      "text/plain": [
       "Fecha            0.000000\n",
       "browserFamily    0.000000\n",
       "browserType      0.000000\n",
       "city             0.000000\n",
       "country          0.000000\n",
       "duration         0.000000\n",
       "endTime          0.000000\n",
       "osFamily         0.000000\n",
       "osVersion        0.000000\n",
       "region           0.000000\n",
       "startTime        0.000000\n",
       "NumCanales       0.000000\n",
       "Placa_Id         0.000000\n",
       "PasoMax          0.000312\n",
       "TipoVeh          0.005432\n",
       "Canales          0.010281\n",
       "dtype: float64"
      ]
     },
     "execution_count": 10,
     "metadata": {},
     "output_type": "execute_result"
    }
   ],
   "source": [
    "df= df.replace('?', np.nan)\n",
    "df= df.replace('-1', np.nan)\n",
    "df.isnull().mean().sort_values(ascending=True)"
   ]
  },
  {
   "cell_type": "code",
   "execution_count": 11,
   "metadata": {},
   "outputs": [],
   "source": [
    "df = df.dropna()"
   ]
  },
  {
   "cell_type": "code",
   "execution_count": 12,
   "metadata": {},
   "outputs": [
    {
     "data": {
      "text/plain": [
       "50558"
      ]
     },
     "execution_count": 12,
     "metadata": {},
     "output_type": "execute_result"
    }
   ],
   "source": [
    "len(df)"
   ]
  },
  {
   "cell_type": "code",
   "execution_count": 13,
   "metadata": {},
   "outputs": [],
   "source": [
    "# Variable logistica dummy\n",
    "\n",
    "df['Exito'] = np.where(df['PasoMax']== 'Pagos Exitosos', 1, 0)"
   ]
  },
  {
   "cell_type": "code",
   "execution_count": 15,
   "metadata": {
    "scrolled": true
   },
   "outputs": [],
   "source": [
    "#variable_categorica = ['TipoVeh']\n",
    "\n",
    "df = pd.get_dummies(df, columns=[\"TipoVeh\"])"
   ]
  },
  {
   "cell_type": "code",
   "execution_count": 16,
   "metadata": {},
   "outputs": [],
   "source": [
    "# Limpieza de datos\n",
    "\n",
    "df= df.replace(['tu','https://www.suraenlinea.com','exitocom'],['tuya','sura','exito'])"
   ]
  },
  {
   "cell_type": "code",
   "execution_count": 17,
   "metadata": {},
   "outputs": [],
   "source": [
    "df[['Canal1','Canal2','Canal3','Canal4','Canal5','Canal6']] = df.Canales.str.split(\",\",expand=True,)\n"
   ]
  },
  {
   "cell_type": "code",
   "execution_count": 18,
   "metadata": {},
   "outputs": [],
   "source": [
    "medio = ['alkosto','exito','bancolombia','sura','bancodeoccidente','clickam','alkomprar','carulla','sufi',\n",
    "         'colsubsidio','tuya','empleadossura','flypass','euro']"
   ]
  },
  {
   "cell_type": "code",
   "execution_count": 19,
   "metadata": {},
   "outputs": [],
   "source": [
    "for i in medio:\n",
    "    df[i] = np.where((df['Canal1'] == i)|(df['Canal2'] == i)|(df['Canal3'] == i)|(df['Canal4'] == i )| (df['Canal5']==i) |(df['Canal6']==i),1,0)\n",
    "     "
   ]
  },
  {
   "cell_type": "code",
   "execution_count": 21,
   "metadata": {},
   "outputs": [
    {
     "data": {
      "text/plain": [
       "Index(['Fecha', 'browserFamily', 'browserType', 'city', 'country', 'duration',\n",
       "       'endTime', 'osFamily', 'osVersion', 'region', 'startTime', 'Canales',\n",
       "       'NumCanales', 'Placa_Id', 'PasoMax', 'Exito', 'TipoVeh_Carro',\n",
       "       'TipoVeh_Moto', 'Canal1', 'Canal2', 'Canal3', 'Canal4', 'Canal5',\n",
       "       'Canal6', 'alkosto', 'exito', 'bancolombia', 'sura', 'bancodeoccidente',\n",
       "       'clickam', 'alkomprar', 'carulla', 'sufi', 'colsubsidio', 'tuya',\n",
       "       'empleadossura', 'flypass', 'euro'],\n",
       "      dtype='object')"
      ]
     },
     "execution_count": 21,
     "metadata": {},
     "output_type": "execute_result"
    }
   ],
   "source": [
    "df.columns"
   ]
  },
  {
   "cell_type": "code",
   "execution_count": 81,
   "metadata": {},
   "outputs": [],
   "source": [
    "for i in medio:\n",
    "    df[i] = np.where((df['Canal1'] == i)|(df['Canal2'] == i)|(df['Canal3'] == i)|(df['Canal4'] == i )| (df['canal5']==i) |(df['Canal6']==i),1,0)\n",
    "     \n"
   ]
  },
  {
   "cell_type": "code",
   "execution_count": 22,
   "metadata": {},
   "outputs": [],
   "source": [
    "df = df.drop(['Canal1', 'Canal2', 'Canal3','Canal4','Canal5','Canal6'], axis=1)"
   ]
  },
  {
   "cell_type": "code",
   "execution_count": 23,
   "metadata": {},
   "outputs": [
    {
     "data": {
      "text/plain": [
       "Index(['Fecha', 'browserFamily', 'browserType', 'city', 'country', 'duration',\n",
       "       'endTime', 'osFamily', 'osVersion', 'region', 'startTime', 'Canales',\n",
       "       'NumCanales', 'Placa_Id', 'PasoMax', 'Exito', 'TipoVeh_Carro',\n",
       "       'TipoVeh_Moto', 'alkosto', 'exito', 'bancolombia', 'sura',\n",
       "       'bancodeoccidente', 'clickam', 'alkomprar', 'carulla', 'sufi',\n",
       "       'colsubsidio', 'tuya', 'empleadossura', 'flypass', 'euro'],\n",
       "      dtype='object')"
      ]
     },
     "execution_count": 23,
     "metadata": {},
     "output_type": "execute_result"
    }
   ],
   "source": [
    "df.columns"
   ]
  },
  {
   "cell_type": "code",
   "execution_count": 150,
   "metadata": {},
   "outputs": [],
   "source": [
    "# Para exportar lo que llevo\n",
    "\n",
    "#df.to_csv(\"exporte1.csv\")"
   ]
  },
  {
   "cell_type": "code",
   "execution_count": 24,
   "metadata": {},
   "outputs": [],
   "source": [
    "count_ciudad = df['city'].value_counts().to_dict()\n",
    "count_region = df['region'].value_counts().to_dict()\n"
   ]
  },
  {
   "cell_type": "code",
   "execution_count": 25,
   "metadata": {},
   "outputs": [],
   "source": [
    "ordinal_ciudad = {k: i for i, k in enumerate(df['city'], 0)}\n",
    "ordinal_region = {k: i for i, k in enumerate(df['region'], 0)}\n",
    "ordinal_browser = {k: i for i, k in enumerate(df['browserFamily'], 0)}\n",
    "ordinal_os_family = {k: i for i, k in enumerate(df['osVersion'], 0)}\n",
    "ordinal_country = {k: i for i, k in enumerate(df['country'], 0)}"
   ]
  },
  {
   "cell_type": "code",
   "execution_count": 26,
   "metadata": {},
   "outputs": [],
   "source": [
    "df['xcity'] = df['city'].map(ordinal_ciudad)\n",
    "df['xregion'] = df['region'].map(ordinal_region)\n",
    "df['xbrowserFamily'] = df['browserFamily'].map(ordinal_browser)\n",
    "df['xosVersion'] = df['osVersion'].map(ordinal_os_family)\n",
    "df['xcountry'] = df['country'].map(ordinal_country)"
   ]
  },
  {
   "cell_type": "code",
   "execution_count": 27,
   "metadata": {},
   "outputs": [
    {
     "data": {
      "text/plain": [
       "Index(['Fecha', 'browserFamily', 'browserType', 'city', 'country', 'duration',\n",
       "       'endTime', 'osFamily', 'osVersion', 'region', 'startTime', 'Canales',\n",
       "       'NumCanales', 'Placa_Id', 'PasoMax', 'Exito', 'TipoVeh_Carro',\n",
       "       'TipoVeh_Moto', 'alkosto', 'exito', 'bancolombia', 'sura',\n",
       "       'bancodeoccidente', 'clickam', 'alkomprar', 'carulla', 'sufi',\n",
       "       'colsubsidio', 'tuya', 'empleadossura', 'flypass', 'euro', 'xcity',\n",
       "       'xregion', 'xbrowserFamily', 'xosVersion', 'xcountry'],\n",
       "      dtype='object')"
      ]
     },
     "execution_count": 27,
     "metadata": {},
     "output_type": "execute_result"
    }
   ],
   "source": [
    "df.columns"
   ]
  },
  {
   "cell_type": "code",
   "execution_count": 28,
   "metadata": {},
   "outputs": [],
   "source": [
    "dfmodelo = df[['xregion', 'xbrowserFamily', 'xosVersion', 'xcountry','NumCanales','TipoVeh_Carro',\n",
    "       'TipoVeh_Moto','alkosto', 'exito', 'bancolombia', 'sura',\n",
    "       'bancodeoccidente', 'clickam', 'alkomprar', 'carulla', 'sufi',\n",
    "       'colsubsidio', 'tuya', 'empleadossura', 'flypass', 'euro','Exito']]"
   ]
  },
  {
   "cell_type": "markdown",
   "metadata": {},
   "source": [
    "### Modelo"
   ]
  },
  {
   "cell_type": "markdown",
   "metadata": {},
   "source": [
    "<img src=\"ensemble.jpg\" width=\"800\" height=\"400\">"
   ]
  },
  {
   "cell_type": "code",
   "execution_count": 36,
   "metadata": {},
   "outputs": [],
   "source": [
    "from sklearn.ensemble import RandomForestClassifier\n",
    "from sklearn.ensemble import VotingClassifier\n",
    "from sklearn.linear_model import LogisticRegression\n",
    "from sklearn.svm import SVC\n",
    "from sklearn.model_selection import train_test_split\n",
    "\n",
    "\n",
    "X_train, X_test, y_train, y_test = train_test_split(dfmodelo, dfmodelo['Exito'],\n",
    "                                                    test_size=0.2,\n",
    "                                                    random_state=0)"
   ]
  },
  {
   "cell_type": "code",
   "execution_count": 37,
   "metadata": {},
   "outputs": [
    {
     "data": {
      "text/plain": [
       "((40446, 22), (10112, 22), (40446,), (10112,))"
      ]
     },
     "execution_count": 37,
     "metadata": {},
     "output_type": "execute_result"
    }
   ],
   "source": [
    "X_train.shape, X_test.shape, y_train.shape, y_test.shape"
   ]
  },
  {
   "cell_type": "code",
   "execution_count": 38,
   "metadata": {},
   "outputs": [],
   "source": [
    "X_train.drop(['Exito'], axis=1, inplace=True)\n",
    "X_test.drop(['Exito',], axis=1, inplace=True)"
   ]
  },
  {
   "cell_type": "code",
   "execution_count": 39,
   "metadata": {},
   "outputs": [
    {
     "data": {
      "text/plain": [
       "VotingClassifier(estimators=[('lr', LogisticRegression(C=1.0, class_weight=None, dual=False, fit_intercept=True,\n",
       "          intercept_scaling=1, max_iter=100, multi_class='warn',\n",
       "          n_jobs=None, penalty='l2', random_state=None, solver='warn',\n",
       "          tol=0.0001, verbose=0, warm_start=False)), ('rf', RandomFo...f', max_iter=-1, probability=False, random_state=None,\n",
       "  shrinking=True, tol=0.001, verbose=False))],\n",
       "         flatten_transform=None, n_jobs=None, voting='hard', weights=None)"
      ]
     },
     "execution_count": 39,
     "metadata": {},
     "output_type": "execute_result"
    }
   ],
   "source": [
    "log_clf = LogisticRegression()\n",
    "rnd_clf = RandomForestClassifier()\n",
    "svm_clf = SVC()\n",
    "voting_clf = VotingClassifier(\n",
    " estimators=[('lr', log_clf), ('rf', rnd_clf), ('svc', svm_clf)],\n",
    " voting='hard')\n",
    "voting_clf.fit(X_train, y_train)\n"
   ]
  },
  {
   "cell_type": "code",
   "execution_count": 40,
   "metadata": {},
   "outputs": [
    {
     "name": "stdout",
     "output_type": "stream",
     "text": [
      "LogisticRegression 0.946993670886\n",
      "RandomForestClassifier 0.944422468354\n",
      "SVC 0.946993670886\n",
      "VotingClassifier 0.946993670886\n"
     ]
    }
   ],
   "source": [
    "from sklearn.metrics import accuracy_score\n",
    "for clf in (log_clf, rnd_clf, svm_clf, voting_clf):\n",
    "    clf.fit(X_train, y_train)\n",
    "    y_pred = clf.predict(X_test)\n",
    "    print(clf.__class__.__name__, accuracy_score(y_test, y_pred))\n",
    " "
   ]
  },
  {
   "cell_type": "code",
   "execution_count": 45,
   "metadata": {},
   "outputs": [
    {
     "data": {
      "text/plain": [
       "0.050221202926427767"
      ]
     },
     "execution_count": 45,
     "metadata": {},
     "output_type": "execute_result"
    }
   ],
   "source": [
    "loss"
   ]
  },
  {
   "cell_type": "code",
   "execution_count": 46,
   "metadata": {},
   "outputs": [],
   "source": [
    "probas = log_clf.predict_proba(X_test)\n",
    "n_classes = np.unique(y_test).size"
   ]
  },
  {
   "cell_type": "code",
   "execution_count": 47,
   "metadata": {},
   "outputs": [
    {
     "data": {
      "text/plain": [
       "array([[ 0.9430133 ,  0.0569867 ],\n",
       "       [ 0.94295395,  0.05704605],\n",
       "       [ 0.94325896,  0.05674104],\n",
       "       ..., \n",
       "       [ 0.9429529 ,  0.0570471 ],\n",
       "       [ 0.94294073,  0.05705927],\n",
       "       [ 0.94295253,  0.05704747]])"
      ]
     },
     "execution_count": 47,
     "metadata": {},
     "output_type": "execute_result"
    }
   ],
   "source": [
    "probas"
   ]
  },
  {
   "cell_type": "code",
   "execution_count": 50,
   "metadata": {},
   "outputs": [
    {
     "data": {
      "text/plain": [
       "19133    0\n",
       "15417    0\n",
       "28699    0\n",
       "2637     0\n",
       "12761    0\n",
       "15399    0\n",
       "12992    0\n",
       "29117    0\n",
       "25301    0\n",
       "23342    0\n",
       "25865    0\n",
       "27201    0\n",
       "5544     0\n",
       "28986    0\n",
       "48113    0\n",
       "26433    0\n",
       "14410    0\n",
       "26641    1\n",
       "50535    0\n",
       "24244    0\n",
       "30534    0\n",
       "13240    1\n",
       "31307    0\n",
       "20398    0\n",
       "31972    0\n",
       "14823    0\n",
       "24236    0\n",
       "23527    0\n",
       "16621    0\n",
       "9705     0\n",
       "        ..\n",
       "33013    0\n",
       "48526    0\n",
       "36774    0\n",
       "20167    1\n",
       "7529     0\n",
       "13027    0\n",
       "2338     0\n",
       "37258    0\n",
       "16481    0\n",
       "2437     0\n",
       "9539     0\n",
       "47899    0\n",
       "23436    0\n",
       "39011    0\n",
       "45506    0\n",
       "18592    0\n",
       "15914    0\n",
       "12542    1\n",
       "44263    0\n",
       "6435     0\n",
       "46232    1\n",
       "7083     0\n",
       "31767    0\n",
       "20014    0\n",
       "26407    0\n",
       "16684    0\n",
       "38980    0\n",
       "10423    0\n",
       "6305     0\n",
       "39475    0\n",
       "Name: Exito, Length: 10112, dtype: int64"
      ]
     },
     "execution_count": 50,
     "metadata": {},
     "output_type": "execute_result"
    }
   ],
   "source": [
    "y_test"
   ]
  },
  {
   "cell_type": "code",
   "execution_count": 52,
   "metadata": {},
   "outputs": [
    {
     "data": {
      "text/html": [
       "<div>\n",
       "<style scoped>\n",
       "    .dataframe tbody tr th:only-of-type {\n",
       "        vertical-align: middle;\n",
       "    }\n",
       "\n",
       "    .dataframe tbody tr th {\n",
       "        vertical-align: top;\n",
       "    }\n",
       "\n",
       "    .dataframe thead th {\n",
       "        text-align: right;\n",
       "    }\n",
       "</style>\n",
       "<table border=\"1\" class=\"dataframe\">\n",
       "  <thead>\n",
       "    <tr style=\"text-align: right;\">\n",
       "      <th></th>\n",
       "      <th>xregion</th>\n",
       "      <th>xbrowserFamily</th>\n",
       "      <th>xosVersion</th>\n",
       "      <th>xcountry</th>\n",
       "      <th>NumCanales</th>\n",
       "      <th>TipoVeh_Carro</th>\n",
       "      <th>TipoVeh_Moto</th>\n",
       "      <th>alkosto</th>\n",
       "      <th>exito</th>\n",
       "      <th>bancolombia</th>\n",
       "      <th>...</th>\n",
       "      <th>bancodeoccidente</th>\n",
       "      <th>clickam</th>\n",
       "      <th>alkomprar</th>\n",
       "      <th>carulla</th>\n",
       "      <th>sufi</th>\n",
       "      <th>colsubsidio</th>\n",
       "      <th>tuya</th>\n",
       "      <th>empleadossura</th>\n",
       "      <th>flypass</th>\n",
       "      <th>euro</th>\n",
       "    </tr>\n",
       "  </thead>\n",
       "  <tbody>\n",
       "    <tr>\n",
       "      <th>19133</th>\n",
       "      <td>50420</td>\n",
       "      <td>50557</td>\n",
       "      <td>50549</td>\n",
       "      <td>50557</td>\n",
       "      <td>1</td>\n",
       "      <td>0</td>\n",
       "      <td>1</td>\n",
       "      <td>0</td>\n",
       "      <td>0</td>\n",
       "      <td>0</td>\n",
       "      <td>...</td>\n",
       "      <td>0</td>\n",
       "      <td>0</td>\n",
       "      <td>1</td>\n",
       "      <td>0</td>\n",
       "      <td>0</td>\n",
       "      <td>0</td>\n",
       "      <td>0</td>\n",
       "      <td>0</td>\n",
       "      <td>0</td>\n",
       "      <td>0</td>\n",
       "    </tr>\n",
       "    <tr>\n",
       "      <th>15417</th>\n",
       "      <td>50555</td>\n",
       "      <td>50555</td>\n",
       "      <td>50553</td>\n",
       "      <td>50557</td>\n",
       "      <td>1</td>\n",
       "      <td>0</td>\n",
       "      <td>1</td>\n",
       "      <td>0</td>\n",
       "      <td>1</td>\n",
       "      <td>0</td>\n",
       "      <td>...</td>\n",
       "      <td>0</td>\n",
       "      <td>0</td>\n",
       "      <td>0</td>\n",
       "      <td>0</td>\n",
       "      <td>0</td>\n",
       "      <td>0</td>\n",
       "      <td>0</td>\n",
       "      <td>0</td>\n",
       "      <td>0</td>\n",
       "      <td>0</td>\n",
       "    </tr>\n",
       "    <tr>\n",
       "      <th>28699</th>\n",
       "      <td>49876</td>\n",
       "      <td>50555</td>\n",
       "      <td>50555</td>\n",
       "      <td>50557</td>\n",
       "      <td>1</td>\n",
       "      <td>1</td>\n",
       "      <td>0</td>\n",
       "      <td>0</td>\n",
       "      <td>1</td>\n",
       "      <td>0</td>\n",
       "      <td>...</td>\n",
       "      <td>0</td>\n",
       "      <td>0</td>\n",
       "      <td>0</td>\n",
       "      <td>0</td>\n",
       "      <td>0</td>\n",
       "      <td>0</td>\n",
       "      <td>0</td>\n",
       "      <td>0</td>\n",
       "      <td>0</td>\n",
       "      <td>0</td>\n",
       "    </tr>\n",
       "    <tr>\n",
       "      <th>2637</th>\n",
       "      <td>50555</td>\n",
       "      <td>50557</td>\n",
       "      <td>50502</td>\n",
       "      <td>50557</td>\n",
       "      <td>1</td>\n",
       "      <td>1</td>\n",
       "      <td>0</td>\n",
       "      <td>0</td>\n",
       "      <td>0</td>\n",
       "      <td>1</td>\n",
       "      <td>...</td>\n",
       "      <td>0</td>\n",
       "      <td>0</td>\n",
       "      <td>0</td>\n",
       "      <td>0</td>\n",
       "      <td>0</td>\n",
       "      <td>0</td>\n",
       "      <td>0</td>\n",
       "      <td>0</td>\n",
       "      <td>0</td>\n",
       "      <td>0</td>\n",
       "    </tr>\n",
       "    <tr>\n",
       "      <th>12761</th>\n",
       "      <td>50555</td>\n",
       "      <td>50555</td>\n",
       "      <td>50553</td>\n",
       "      <td>50557</td>\n",
       "      <td>1</td>\n",
       "      <td>1</td>\n",
       "      <td>0</td>\n",
       "      <td>0</td>\n",
       "      <td>0</td>\n",
       "      <td>1</td>\n",
       "      <td>...</td>\n",
       "      <td>0</td>\n",
       "      <td>0</td>\n",
       "      <td>0</td>\n",
       "      <td>0</td>\n",
       "      <td>0</td>\n",
       "      <td>0</td>\n",
       "      <td>0</td>\n",
       "      <td>0</td>\n",
       "      <td>0</td>\n",
       "      <td>0</td>\n",
       "    </tr>\n",
       "    <tr>\n",
       "      <th>15399</th>\n",
       "      <td>50557</td>\n",
       "      <td>50551</td>\n",
       "      <td>50551</td>\n",
       "      <td>50557</td>\n",
       "      <td>1</td>\n",
       "      <td>0</td>\n",
       "      <td>1</td>\n",
       "      <td>0</td>\n",
       "      <td>0</td>\n",
       "      <td>1</td>\n",
       "      <td>...</td>\n",
       "      <td>0</td>\n",
       "      <td>0</td>\n",
       "      <td>0</td>\n",
       "      <td>0</td>\n",
       "      <td>0</td>\n",
       "      <td>0</td>\n",
       "      <td>0</td>\n",
       "      <td>0</td>\n",
       "      <td>0</td>\n",
       "      <td>0</td>\n",
       "    </tr>\n",
       "    <tr>\n",
       "      <th>12992</th>\n",
       "      <td>50555</td>\n",
       "      <td>50555</td>\n",
       "      <td>50553</td>\n",
       "      <td>50557</td>\n",
       "      <td>1</td>\n",
       "      <td>0</td>\n",
       "      <td>1</td>\n",
       "      <td>1</td>\n",
       "      <td>0</td>\n",
       "      <td>0</td>\n",
       "      <td>...</td>\n",
       "      <td>0</td>\n",
       "      <td>0</td>\n",
       "      <td>0</td>\n",
       "      <td>0</td>\n",
       "      <td>0</td>\n",
       "      <td>0</td>\n",
       "      <td>0</td>\n",
       "      <td>0</td>\n",
       "      <td>0</td>\n",
       "      <td>0</td>\n",
       "    </tr>\n",
       "    <tr>\n",
       "      <th>29117</th>\n",
       "      <td>50557</td>\n",
       "      <td>50555</td>\n",
       "      <td>50553</td>\n",
       "      <td>50557</td>\n",
       "      <td>2</td>\n",
       "      <td>1</td>\n",
       "      <td>0</td>\n",
       "      <td>0</td>\n",
       "      <td>1</td>\n",
       "      <td>0</td>\n",
       "      <td>...</td>\n",
       "      <td>0</td>\n",
       "      <td>0</td>\n",
       "      <td>0</td>\n",
       "      <td>0</td>\n",
       "      <td>0</td>\n",
       "      <td>0</td>\n",
       "      <td>0</td>\n",
       "      <td>0</td>\n",
       "      <td>0</td>\n",
       "      <td>0</td>\n",
       "    </tr>\n",
       "    <tr>\n",
       "      <th>25301</th>\n",
       "      <td>50557</td>\n",
       "      <td>50557</td>\n",
       "      <td>50549</td>\n",
       "      <td>50557</td>\n",
       "      <td>1</td>\n",
       "      <td>1</td>\n",
       "      <td>0</td>\n",
       "      <td>0</td>\n",
       "      <td>1</td>\n",
       "      <td>0</td>\n",
       "      <td>...</td>\n",
       "      <td>0</td>\n",
       "      <td>0</td>\n",
       "      <td>0</td>\n",
       "      <td>0</td>\n",
       "      <td>0</td>\n",
       "      <td>0</td>\n",
       "      <td>0</td>\n",
       "      <td>0</td>\n",
       "      <td>0</td>\n",
       "      <td>0</td>\n",
       "    </tr>\n",
       "    <tr>\n",
       "      <th>23342</th>\n",
       "      <td>50537</td>\n",
       "      <td>50557</td>\n",
       "      <td>50557</td>\n",
       "      <td>50557</td>\n",
       "      <td>2</td>\n",
       "      <td>1</td>\n",
       "      <td>0</td>\n",
       "      <td>0</td>\n",
       "      <td>0</td>\n",
       "      <td>1</td>\n",
       "      <td>...</td>\n",
       "      <td>0</td>\n",
       "      <td>0</td>\n",
       "      <td>0</td>\n",
       "      <td>0</td>\n",
       "      <td>0</td>\n",
       "      <td>0</td>\n",
       "      <td>0</td>\n",
       "      <td>0</td>\n",
       "      <td>0</td>\n",
       "      <td>0</td>\n",
       "    </tr>\n",
       "  </tbody>\n",
       "</table>\n",
       "<p>10 rows × 21 columns</p>\n",
       "</div>"
      ],
      "text/plain": [
       "       xregion  xbrowserFamily  xosVersion  xcountry  NumCanales  \\\n",
       "19133    50420           50557       50549     50557           1   \n",
       "15417    50555           50555       50553     50557           1   \n",
       "28699    49876           50555       50555     50557           1   \n",
       "2637     50555           50557       50502     50557           1   \n",
       "12761    50555           50555       50553     50557           1   \n",
       "15399    50557           50551       50551     50557           1   \n",
       "12992    50555           50555       50553     50557           1   \n",
       "29117    50557           50555       50553     50557           2   \n",
       "25301    50557           50557       50549     50557           1   \n",
       "23342    50537           50557       50557     50557           2   \n",
       "\n",
       "       TipoVeh_Carro  TipoVeh_Moto  alkosto  exito  bancolombia  ...   \\\n",
       "19133              0             1        0      0            0  ...    \n",
       "15417              0             1        0      1            0  ...    \n",
       "28699              1             0        0      1            0  ...    \n",
       "2637               1             0        0      0            1  ...    \n",
       "12761              1             0        0      0            1  ...    \n",
       "15399              0             1        0      0            1  ...    \n",
       "12992              0             1        1      0            0  ...    \n",
       "29117              1             0        0      1            0  ...    \n",
       "25301              1             0        0      1            0  ...    \n",
       "23342              1             0        0      0            1  ...    \n",
       "\n",
       "       bancodeoccidente  clickam  alkomprar  carulla  sufi  colsubsidio  tuya  \\\n",
       "19133                 0        0          1        0     0            0     0   \n",
       "15417                 0        0          0        0     0            0     0   \n",
       "28699                 0        0          0        0     0            0     0   \n",
       "2637                  0        0          0        0     0            0     0   \n",
       "12761                 0        0          0        0     0            0     0   \n",
       "15399                 0        0          0        0     0            0     0   \n",
       "12992                 0        0          0        0     0            0     0   \n",
       "29117                 0        0          0        0     0            0     0   \n",
       "25301                 0        0          0        0     0            0     0   \n",
       "23342                 0        0          0        0     0            0     0   \n",
       "\n",
       "       empleadossura  flypass  euro  \n",
       "19133              0        0     0  \n",
       "15417              0        0     0  \n",
       "28699              0        0     0  \n",
       "2637               0        0     0  \n",
       "12761              0        0     0  \n",
       "15399              0        0     0  \n",
       "12992              0        0     0  \n",
       "29117              0        0     0  \n",
       "25301              0        0     0  \n",
       "23342              0        0     0  \n",
       "\n",
       "[10 rows x 21 columns]"
      ]
     },
     "execution_count": 52,
     "metadata": {},
     "output_type": "execute_result"
    }
   ],
   "source": [
    "X_test.head(10)"
   ]
  },
  {
   "cell_type": "code",
   "execution_count": 55,
   "metadata": {},
   "outputs": [],
   "source": [
    "import xlsxwriter\n",
    "\n",
    "workbook = xlsxwriter.Workbook('arrays.xlsx')\n",
    "worksheet = workbook.add_worksheet()\n",
    "\n",
    "row = 0\n",
    "\n",
    "for col, data in enumerate(probas):\n",
    "    worksheet.write_column(row, col, data)\n",
    "\n",
    "workbook.close()"
   ]
  },
  {
   "cell_type": "code",
   "execution_count": 54,
   "metadata": {},
   "outputs": [
    {
     "name": "stdout",
     "output_type": "stream",
     "text": [
      "Collecting xlsxwriter\n",
      "\u001b[?25l  Downloading https://files.pythonhosted.org/packages/2b/98/17875723b6814fc4d0fc03f0997ee00de2dbd78cf195e2ec3f2c9c789d40/XlsxWriter-1.3.3-py2.py3-none-any.whl (144kB)\n",
      "\u001b[K    100% |████████████████████████████████| 153kB 2.1MB/s ta 0:00:01\n",
      "\u001b[?25hInstalling collected packages: xlsxwriter\n",
      "Successfully installed xlsxwriter-1.3.3\n"
     ]
    }
   ],
   "source": [
    "!pip install xlsxwriter"
   ]
  },
  {
   "cell_type": "code",
   "execution_count": null,
   "metadata": {},
   "outputs": [],
   "source": []
  }
 ],
 "metadata": {
  "kernelspec": {
   "display_name": "Python 3",
   "language": "python",
   "name": "python3"
  },
  "language_info": {
   "codemirror_mode": {
    "name": "ipython",
    "version": 3
   },
   "file_extension": ".py",
   "mimetype": "text/x-python",
   "name": "python",
   "nbconvert_exporter": "python",
   "pygments_lexer": "ipython3",
   "version": "3.6.7"
  }
 },
 "nbformat": 4,
 "nbformat_minor": 2
}
